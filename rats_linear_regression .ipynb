{
 "cells": [
  {
   "cell_type": "code",
   "execution_count": null,
   "id": "225413e5",
   "metadata": {},
   "outputs": [],
   "source": [
    "#import dependencies \n",
    "import pandas as pd\n",
    "from pathlib import Path\n",
    "import matplotlib.pyplot as plt\n",
    "from sklearn.linear_model import LinearRegression"
   ]
  },
  {
   "cell_type": "code",
   "execution_count": null,
   "id": "1dce4807",
   "metadata": {},
   "outputs": [],
   "source": [
    "#load csv \n",
    "df = pd.read_csv(Path('rat_sightings_tonage.csv'))\n",
    "df.head()"
   ]
  },
  {
   "cell_type": "code",
   "execution_count": null,
   "id": "30402edc",
   "metadata": {},
   "outputs": [],
   "source": [
    "#variables \n",
    "#x=total reported rat sightings = tons_of_garbage\n",
    "#y=total tons of garbage = total_rats"
   ]
  },
  {
   "cell_type": "code",
   "execution_count": null,
   "id": "4d850fcd",
   "metadata": {},
   "outputs": [],
   "source": [
    "#create scatter plot \n",
    "plt.scatter(df.tons_of_garbage, df.total_rats)\n",
    "plt.xlabel('Total Tons of Garbage')\n",
    "plt.ylabel('Total Reported Rat Sightings')\n",
    "plt.title('Reported Rat Sightings in NYC')\n",
    "plt.show()"
   ]
  },
  {
   "cell_type": "code",
   "execution_count": null,
   "id": "0cceaf7e",
   "metadata": {},
   "outputs": [],
   "source": [
    "#identify features \n",
    "X = df.tons_of_garbage.values.reshape(-1, 1)"
   ]
  },
  {
   "cell_type": "code",
   "execution_count": null,
   "id": "03bdf6a9",
   "metadata": {},
   "outputs": [],
   "source": [
    "#idetnify output \n",
    "y = df.total_rats"
   ]
  },
  {
   "cell_type": "code",
   "execution_count": null,
   "id": "a461085f",
   "metadata": {},
   "outputs": [],
   "source": [
    "#object called model is created that will analyze the data and store information specific to this dataset\n",
    "model = LinearRegression()"
   ]
  },
  {
   "cell_type": "code",
   "execution_count": null,
   "id": "5efa1c90",
   "metadata": {},
   "outputs": [],
   "source": [
    "#fit model \n",
    "model.fit(X, y)"
   ]
  },
  {
   "cell_type": "code",
   "execution_count": null,
   "id": "f53a5628",
   "metadata": {},
   "outputs": [],
   "source": [
    "#train model \n",
    "y_pred = model.predict(X)"
   ]
  },
  {
   "cell_type": "code",
   "execution_count": null,
   "id": "2d0f17be",
   "metadata": {},
   "outputs": [],
   "source": [
    "plt.scatter(X, y)\n",
    "plt.plot(X, y_pred, color='red')\n",
    "plt.xlabel('Total Tons of Garbage')\n",
    "plt.ylabel('Total Reported Rat Sightings')\n"
    "plt.title('Reported Rat Sightings in NYC')\n",
    "plt.show()"
   ]
  },
  {
   "cell_type": "code",
   "execution_count": null,
   "id": "a32994a3",
   "metadata": {},
   "outputs": [],
   "source": [
    "print(model.coef_)\n",
    "print(model.intercept_)"
   ]
  },
  {
   "cell_type": "code",
   "execution_count": null,
   "id": "9a196aad",
   "metadata": {},
   "outputs": [],
   "source": [
    "#calculate R-squared of regression model\n",
    "r_squared = model.score(X, y)\n",
    "print(r_squared)"
   ]
  }
 ],
 "metadata": {
  "kernelspec": {
   "display_name": "mlenv",
   "language": "python",
   "name": "mlenv"
  },
  "language_info": {
   "codemirror_mode": {
    "name": "ipython",
    "version": 3
   },
   "file_extension": ".py",
   "mimetype": "text/x-python",
   "name": "python",
   "nbconvert_exporter": "python",
   "pygments_lexer": "ipython3",
   "version": "3.7.13"
  }
 },
 "nbformat": 4,
 "nbformat_minor": 5
}
