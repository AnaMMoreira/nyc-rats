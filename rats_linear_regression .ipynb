{
 "cells": [
  {
   "cell_type": "code",
   "execution_count": 1,
   "id": "f6eebee4",
   "metadata": {},
   "outputs": [],
   "source": [
    "#import dependencies \n",
    "import pandas as pd\n",
    "from pathlib import Path\n",
    "import matplotlib.pyplot as plt\n",
    "from sklearn.linear_model import LinearRegression"
   ]
  },
  {
   "cell_type": "code",
   "execution_count": 2,
   "id": "0fba9d96",
   "metadata": {},
   "outputs": [
    {
     "data": {
      "text/html": [
       "<div>\n",
       "<style scoped>\n",
       "    .dataframe tbody tr th:only-of-type {\n",
       "        vertical-align: middle;\n",
       "    }\n",
       "\n",
       "    .dataframe tbody tr th {\n",
       "        vertical-align: top;\n",
       "    }\n",
       "\n",
       "    .dataframe thead th {\n",
       "        text-align: right;\n",
       "    }\n",
       "</style>\n",
       "<table border=\"1\" class=\"dataframe\">\n",
       "  <thead>\n",
       "    <tr style=\"text-align: right;\">\n",
       "      <th></th>\n",
       "      <th>CD</th>\n",
       "      <th>total_rats</th>\n",
       "      <th>tons_of_garbage</th>\n",
       "    </tr>\n",
       "  </thead>\n",
       "  <tbody>\n",
       "    <tr>\n",
       "      <th>0</th>\n",
       "      <td>01 BRONX</td>\n",
       "      <td>2338</td>\n",
       "      <td>764007.8</td>\n",
       "    </tr>\n",
       "    <tr>\n",
       "      <th>1</th>\n",
       "      <td>02 BRONX</td>\n",
       "      <td>2027</td>\n",
       "      <td>582803.0</td>\n",
       "    </tr>\n",
       "    <tr>\n",
       "      <th>2</th>\n",
       "      <td>03 BRONX</td>\n",
       "      <td>2522</td>\n",
       "      <td>723072.8</td>\n",
       "    </tr>\n",
       "    <tr>\n",
       "      <th>3</th>\n",
       "      <td>04 BRONX</td>\n",
       "      <td>4158</td>\n",
       "      <td>1598950.4</td>\n",
       "    </tr>\n",
       "    <tr>\n",
       "      <th>4</th>\n",
       "      <td>05 BRONX</td>\n",
       "      <td>3365</td>\n",
       "      <td>1351276.7</td>\n",
       "    </tr>\n",
       "  </tbody>\n",
       "</table>\n",
       "</div>"
      ],
      "text/plain": [
       "         CD  total_rats  tons_of_garbage\n",
       "0  01 BRONX        2338         764007.8\n",
       "1  02 BRONX        2027         582803.0\n",
       "2  03 BRONX        2522         723072.8\n",
       "3  04 BRONX        4158        1598950.4\n",
       "4  05 BRONX        3365        1351276.7"
      ]
     },
     "execution_count": 2,
     "metadata": {},
     "output_type": "execute_result"
    }
   ],
   "source": [
    "#load csv \n",
    "df = pd.read_csv(Path('rat_sightings_tonage.csv'))\n",
    "df.head()"
   ]
  },
  {
   "cell_type": "code",
   "execution_count": 3,
   "id": "5d088816",
   "metadata": {},
   "outputs": [],
   "source": [
    "#variables \n",
    "#x=total reported rat sightings = tons_of_garbage\n",
    "#y=total tons of garbage = total_rats"
   ]
  },
  {
   "cell_type": "code",
   "execution_count": 4,
   "id": "3489e14c",
   "metadata": {},
   "outputs": [
    {
     "data": {
      "image/png": "[encoded data removed]",
      "text/plain": [
       "<Figure size 432x288 with 1 Axes>"
      ]
     },
     "metadata": {
      "needs_background": "light"
     },
     "output_type": "display_data"
    }
   ],
   "source": [
    "#create scatter plot \n",
    "plt.scatter(df.tons_of_garbage, df.total_rats)\n",
    "plt.xlabel('Total Tons of Garbage ')\n",
    "plt.ylabel('Total Reported Rat Sightings')\n",
    "plt.title('Reported Rat Sightings in NYC')\n",
    "plt.show()"
   ]
  },
  {
   "cell_type": "code",
   "execution_count": 5,
   "id": "33437305",
   "metadata": {},
   "outputs": [],
   "source": [
    "#identify features \n",
    "X = df.tons_of_garbage.values.reshape(-1, 1)"
   ]
  },
  {
   "cell_type": "code",
   "execution_count": 6,
   "id": "40d5f613",
   "metadata": {},
   "outputs": [],
   "source": [
    "#idetnify output \n",
    "y = df.total_rats"
   ]
  },
  {
   "cell_type": "code",
   "execution_count": 7,
   "id": "288bcad2",
   "metadata": {},
   "outputs": [],
   "source": [
    "#object called model is created that will analyze the data and store information specific to this dataset\n",
    "model = LinearRegression()"
   ]
  },
  {
   "cell_type": "code",
   "execution_count": 8,
   "id": "4c628c8a",
   "metadata": {},
   "outputs": [
    {
     "data": {
      "text/plain": [
       "LinearRegression()"
      ]
     },
     "execution_count": 8,
     "metadata": {},
     "output_type": "execute_result"
    }
   ],
   "source": [
    "#fit model \n",
    "model.fit(X, y)"
   ]
  },
  {
   "cell_type": "code",
   "execution_count": 9,
   "id": "857c88d4",
   "metadata": {},
   "outputs": [],
   "source": [
    "#train model \n",
    "y_pred = model.predict(X)"
   ]
  },
  {
   "cell_type": "code",
   "execution_count": 10,
   "id": "1206ed02",
   "metadata": {},
   "outputs": [
    {
     "data": {
      "image/png": "[encoded data removed]",
      "text/plain": [
       "<Figure size 432x288 with 1 Axes>"
      ]
     },
     "metadata": {
      "needs_background": "light"
     },
     "output_type": "display_data"
    }
   ],
   "source": [
    "plt.scatter(X, y)\n",
    "plt.plot(X, y_pred, color='red')\n",
    "plt.xlabel('Total Tons of Garbage ')\n",
    "plt.ylabel('Total Reported Rat Sightings')\n",
    "plt.title('Reported Rat Sightings in NYC')\n",
    "plt.show()"
   ]
  },
  {
   "cell_type": "code",
   "execution_count": 11,
   "id": "a058b9a7",
   "metadata": {},
   "outputs": [
    {
     "name": "stdout",
     "output_type": "stream",
     "text": [
      "[0.00056854]\n",
      "2086.2621422990633\n"
     ]
    }
   ],
   "source": [
    "print(model.coef_)\n",
    "print(model.intercept_)"
   ]
  },
  {
   "cell_type": "code",
   "execution_count": 12,
   "id": "6ee0899a",
   "metadata": {},
   "outputs": [
    {
     "name": "stdout",
     "output_type": "stream",
     "text": [
      "0.028310143696384404\n"
     ]
    }
   ],
   "source": [
    "#calculate R-squared of regression model\n",
    "r_squared = model.score(X, y)\n",
    "print(r_squared)"
   ]
  },
  {
   "cell_type": "code",
   "execution_count": null,
   "id": "01a2cb74",
   "metadata": {},
   "outputs": [],
   "source": []
  }
 ],
 "metadata": {
  "kernelspec": {
   "display_name": "mlenv",
   "language": "python",
   "name": "mlenv"
  },
  "language_info": {
   "codemirror_mode": {
    "name": "ipython",
    "version": 3
   },
   "file_extension": ".py",
   "mimetype": "text/x-python",
   "name": "python",
   "nbconvert_exporter": "python",
   "pygments_lexer": "ipython3",
   "version": "3.7.13"
  }
 },
 "nbformat": 4,
 "nbformat_minor": 5
}
