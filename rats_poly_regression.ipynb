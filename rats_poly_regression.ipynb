{
 "cells": [
  {
   "cell_type": "code",
   "execution_count": 1,
   "id": "f6eebee4",
   "metadata": {},
   "outputs": [],
   "source": [
    "#import dependencies \n",
    "from sklearn.linear_model import LinearRegression\n",
    "import pandas as pd\n",
    "from pathlib import Path\n",
    "import scipy.interpolate \n",
    "import numpy as np\n",
    "import matplotlib.pyplot as plt\n",
    "import seaborn as sns\n",
    "from sklearn.metrics import r2_score\n",
    "import scipy.stats as stats\n",
    "from pylab import *\n",
    "\n",
    "# importing libraries for polynomial transform\n",
    "from sklearn.preprocessing import PolynomialFeatures\n",
    "# for creating pipeline\n",
    "from sklearn.pipeline import Pipeline\n"
   ]
  },
  {
   "cell_type": "code",
   "execution_count": 2,
   "id": "0fba9d96",
   "metadata": {},
   "outputs": [
    {
     "data": {
      "text/html": [
       "<div>\n",
       "<style scoped>\n",
       "    .dataframe tbody tr th:only-of-type {\n",
       "        vertical-align: middle;\n",
       "    }\n",
       "\n",
       "    .dataframe tbody tr th {\n",
       "        vertical-align: top;\n",
       "    }\n",
       "\n",
       "    .dataframe thead th {\n",
       "        text-align: right;\n",
       "    }\n",
       "</style>\n",
       "<table border=\"1\" class=\"dataframe\">\n",
       "  <thead>\n",
       "    <tr style=\"text-align: right;\">\n",
       "      <th></th>\n",
       "      <th>CD</th>\n",
       "      <th>total_rats</th>\n",
       "      <th>tons_of_garbage</th>\n",
       "    </tr>\n",
       "  </thead>\n",
       "  <tbody>\n",
       "    <tr>\n",
       "      <th>0</th>\n",
       "      <td>01 BRONX</td>\n",
       "      <td>2338</td>\n",
       "      <td>764007.8</td>\n",
       "    </tr>\n",
       "    <tr>\n",
       "      <th>1</th>\n",
       "      <td>02 BRONX</td>\n",
       "      <td>2027</td>\n",
       "      <td>582803.0</td>\n",
       "    </tr>\n",
       "    <tr>\n",
       "      <th>2</th>\n",
       "      <td>03 BRONX</td>\n",
       "      <td>2522</td>\n",
       "      <td>723072.8</td>\n",
       "    </tr>\n",
       "    <tr>\n",
       "      <th>3</th>\n",
       "      <td>04 BRONX</td>\n",
       "      <td>4158</td>\n",
       "      <td>1598950.4</td>\n",
       "    </tr>\n",
       "    <tr>\n",
       "      <th>4</th>\n",
       "      <td>05 BRONX</td>\n",
       "      <td>3365</td>\n",
       "      <td>1351276.7</td>\n",
       "    </tr>\n",
       "  </tbody>\n",
       "</table>\n",
       "</div>"
      ],
      "text/plain": [
       "         CD  total_rats  tons_of_garbage\n",
       "0  01 BRONX        2338         764007.8\n",
       "1  02 BRONX        2027         582803.0\n",
       "2  03 BRONX        2522         723072.8\n",
       "3  04 BRONX        4158        1598950.4\n",
       "4  05 BRONX        3365        1351276.7"
      ]
     },
     "execution_count": 2,
     "metadata": {},
     "output_type": "execute_result"
    }
   ],
   "source": [
    "#load csv \n",
    "df = pd.read_csv(Path('rat_sightings_tonage.csv'))\n",
    "df.head()"
   ]
  },
  {
   "cell_type": "code",
   "execution_count": 3,
   "id": "5d088816",
   "metadata": {},
   "outputs": [],
   "source": [
    "#variables \n",
    "#x=total reported rat sightings = tons_of_garbage\n",
    "#y=total tons of garbage = total_rats"
   ]
  },
  {
   "cell_type": "code",
   "execution_count": 4,
   "id": "ed4b5413",
   "metadata": {},
   "outputs": [],
   "source": [
    "%matplotlib inline"
   ]
  },
  {
   "cell_type": "code",
   "execution_count": 5,
   "id": "3489e14c",
   "metadata": {},
   "outputs": [
    {
     "data": {
      "image/png": "[encoded data removed]",
      "text/plain": [
       "<Figure size 432x288 with 1 Axes>"
      ]
     },
     "metadata": {
      "needs_background": "light"
     },
     "output_type": "display_data"
    }
   ],
   "source": [
    "#create scatter plot \n",
    "plt.scatter(df.tons_of_garbage, df.total_rats)\n",
    "plt.xlabel('Total Tons of Garbage ')\n",
    "plt.ylabel('Total Reported Rat Sightings')\n",
    "plt.title('Reported Rat Sightings in NYC')\n",
    "plt.show()"
   ]
  },
  {
   "cell_type": "code",
   "execution_count": 6,
   "id": "ce7bee3c",
   "metadata": {},
   "outputs": [],
   "source": [
    "#Quadratic Regression  "
   ]
  },
  {
   "cell_type": "code",
   "execution_count": 7,
   "id": "2f636285",
   "metadata": {},
   "outputs": [],
   "source": [
    "#identify features \n",
    "X = df.tons_of_garbage.values.reshape(-1, 1)"
   ]
  },
  {
   "cell_type": "code",
   "execution_count": 8,
   "id": "dbe1ba5f",
   "metadata": {},
   "outputs": [],
   "source": [
    "#idetnify output \n",
    "y = df.total_rats.values.reshape(-1, 1)"
   ]
  },
  {
   "cell_type": "code",
   "execution_count": 9,
   "id": "722fddbd",
   "metadata": {},
   "outputs": [
    {
     "data": {
      "text/plain": [
       "Pipeline(steps=[('polynomial', PolynomialFeatures()),\n",
       "                ('modal', LinearRegression())])"
      ]
     },
     "execution_count": 9,
     "metadata": {},
     "output_type": "execute_result"
    }
   ],
   "source": [
    "# creating pipeline and fitting it on data\n",
    "Input=[('polynomial',PolynomialFeatures(degree=2)),('modal',LinearRegression())]\n",
    "pipe=Pipeline(Input)\n",
    "pipe.fit(X,y)"
   ]
  },
  {
   "cell_type": "code",
   "execution_count": 11,
   "id": "9c8e9b19",
   "metadata": {},
   "outputs": [
    {
     "data": {
      "image/png": "[encoded data removed]",
      "text/plain": [
       "<Figure size 720x432 with 1 Axes>"
      ]
     },
     "metadata": {
      "needs_background": "light"
     },
     "output_type": "display_data"
    }
   ],
   "source": [
    "poly_pred=pipe.predict(X)\n",
    "#sorting predicted values with respect to predictor\n",
    "sorted_zip = sorted(zip(X,poly_pred))\n",
    "X_poly, poly_pred = zip(*sorted_zip)\n",
    "\n",
    "#plotting predictions\n",
    "plt.figure(figsize=(10,6))\n",
    "plt.scatter(X,y,s=15)\n",
    "plt.plot(X_poly,poly_pred,color='g',label='Polynomial Regression')\n",
    "plt.xlabel('Predictor',fontsize=16)\n",
    "plt.ylabel('Target',fontsize=16)\n",
    "plt.legend()\n",
    "plt.show()"
   ]
  },
  {
   "cell_type": "code",
   "execution_count": 16,
   "id": "b38a44cd",
   "metadata": {},
   "outputs": [
    {
     "name": "stdout",
     "output_type": "stream",
     "text": [
      "0.21443856505858186\n"
     ]
    }
   ],
   "source": [
    "r_squared = pipe.score(X, y)\n",
    "print(np.sqrt(r_squared))"
   ]
  },
  {
   "cell_type": "code",
   "execution_count": null,
   "id": "e4917b14",
   "metadata": {},
   "outputs": [],
   "source": [
    "#Cubic Regression  "
   ]
  },
  {
   "cell_type": "code",
   "execution_count": 17,
   "id": "7049d512",
   "metadata": {},
   "outputs": [
    {
     "data": {
      "text/plain": [
       "Pipeline(steps=[('polynomial', PolynomialFeatures(degree=3)),\n",
       "                ('modal', LinearRegression())])"
      ]
     },
     "execution_count": 17,
     "metadata": {},
     "output_type": "execute_result"
    }
   ],
   "source": [
    "# creating pipeline and fitting it on data\n",
    "Input=[('polynomial',PolynomialFeatures(degree=3)),('modal',LinearRegression())]\n",
    "pipe=Pipeline(Input)\n",
    "pipe.fit(X,y)"
   ]
  },
  {
   "cell_type": "code",
   "execution_count": 18,
   "id": "1c25b5ab",
   "metadata": {},
   "outputs": [
    {
     "data": {
      "image/png": "[encoded data removed]",
      "text/plain": [
       "<Figure size 720x432 with 1 Axes>"
      ]
     },
     "metadata": {
      "needs_background": "light"
     },
     "output_type": "display_data"
    }
   ],
   "source": [
    "poly_pred=pipe.predict(X)\n",
    "#sorting predicted values with respect to predictor\n",
    "sorted_zip = sorted(zip(X,poly_pred))\n",
    "X_poly, poly_pred = zip(*sorted_zip)\n",
    "\n",
    "#plotting predictions\n",
    "plt.figure(figsize=(10,6))\n",
    "plt.scatter(X,y,s=15)\n",
    "plt.plot(X_poly,poly_pred,color='g',label='Polynomial Regression')\n",
    "plt.xlabel('Predictor',fontsize=16)\n",
    "plt.ylabel('Target',fontsize=16)\n",
    "plt.legend()\n",
    "plt.show()"
   ]
  },
  {
   "cell_type": "code",
   "execution_count": 19,
   "id": "d9b68f1b",
   "metadata": {},
   "outputs": [
    {
     "name": "stdout",
     "output_type": "stream",
     "text": [
      "0.2234097545939802\n"
     ]
    }
   ],
   "source": [
    "r_squared = pipe.score(X, y)\n",
    "print(np.sqrt(r_squared))"
   ]
  },
  {
   "cell_type": "code",
   "execution_count": 20,
   "id": "430dae3a",
   "metadata": {},
   "outputs": [],
   "source": [
    "#Quartic Regression  "
   ]
  },
  {
   "cell_type": "code",
   "execution_count": 21,
   "id": "a302e449",
   "metadata": {},
   "outputs": [
    {
     "data": {
      "text/plain": [
       "Pipeline(steps=[('polynomial', PolynomialFeatures(degree=4)),\n",
       "                ('modal', LinearRegression())])"
      ]
     },
     "execution_count": 21,
     "metadata": {},
     "output_type": "execute_result"
    }
   ],
   "source": [
    "# creating pipeline and fitting it on data\n",
    "Input=[('polynomial',PolynomialFeatures(degree=4)),('modal',LinearRegression())]\n",
    "pipe=Pipeline(Input)\n",
    "pipe.fit(X,y)"
   ]
  },
  {
   "cell_type": "code",
   "execution_count": 22,
   "id": "d7524665",
   "metadata": {},
   "outputs": [
    {
     "data": {
      "image/png": "[encoded data removed]",
      "text/plain": [
       "<Figure size 720x432 with 1 Axes>"
      ]
     },
     "metadata": {
      "needs_background": "light"
     },
     "output_type": "display_data"
    }
   ],
   "source": [
    "poly_pred=pipe.predict(X)\n",
    "#sorting predicted values with respect to predictor\n",
    "sorted_zip = sorted(zip(X,poly_pred))\n",
    "X_poly, poly_pred = zip(*sorted_zip)\n",
    "\n",
    "#plotting predictions\n",
    "plt.figure(figsize=(10,6))\n",
    "plt.scatter(X,y,s=15)\n",
    "plt.plot(X_poly,poly_pred,color='g',label='Polynomial Regression')\n",
    "plt.xlabel('Predictor',fontsize=16)\n",
    "plt.ylabel('Target',fontsize=16)\n",
    "plt.legend()\n",
    "plt.show()"
   ]
  },
  {
   "cell_type": "code",
   "execution_count": 23,
   "id": "d36bb9fe",
   "metadata": {},
   "outputs": [
    {
     "name": "stdout",
     "output_type": "stream",
     "text": [
      "0.21430792364700949\n"
     ]
    }
   ],
   "source": [
    "r_squared = pipe.score(X, y)\n",
    "print(np.sqrt(r_squared))"
   ]
  },
  {
   "cell_type": "code",
   "execution_count": null,
   "id": "ee63d48a",
   "metadata": {},
   "outputs": [],
   "source": []
  }
 ],
 "metadata": {
  "kernelspec": {
   "display_name": "mlenv",
   "language": "python",
   "name": "mlenv"
  },
  "language_info": {
   "codemirror_mode": {
    "name": "ipython",
    "version": 3
   },
   "file_extension": ".py",
   "mimetype": "text/x-python",
   "name": "python",
   "nbconvert_exporter": "python",
   "pygments_lexer": "ipython3",
   "version": "3.7.13"
  }
 },
 "nbformat": 4,
 "nbformat_minor": 5
}
